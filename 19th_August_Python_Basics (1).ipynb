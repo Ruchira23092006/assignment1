{
 "cells": [
  {
   "cell_type": "code",
   "execution_count": null,
   "id": "8b4c9110-687f-4abd-8e2a-3f4beefb0f6f",
   "metadata": {},
   "outputs": [],
   "source": [
    "#1.swap the variables"
   ]
  },
  {
   "cell_type": "code",
   "execution_count": 22,
   "id": "8ddf8beb-95dd-4edb-92ff-4060e9f1ea78",
   "metadata": {},
   "outputs": [],
   "source": [
    "x,y=10,15\n"
   ]
  },
  {
   "cell_type": "code",
   "execution_count": 23,
   "id": "0d22afe6-44c8-4358-8908-da3832b3e598",
   "metadata": {},
   "outputs": [],
   "source": [
    "x,y=y,x"
   ]
  },
  {
   "cell_type": "code",
   "execution_count": 20,
   "id": "3ccbaba1-3486-429e-bdea-2e9be1f4afee",
   "metadata": {},
   "outputs": [],
   "source": [
    "#2.program to find area of rectangle"
   ]
  },
  {
   "cell_type": "code",
   "execution_count": 1,
   "id": "19ffde49-9302-423c-a35a-ec76d5d1a866",
   "metadata": {},
   "outputs": [
    {
     "name": "stdin",
     "output_type": "stream",
     "text": [
      "enter the length of the rectangle 30\n"
     ]
    }
   ],
   "source": [
    "l=int(input(\"enter the length of the rectangle\"))"
   ]
  },
  {
   "cell_type": "code",
   "execution_count": 2,
   "id": "ed4be605-c6de-4e0a-80ab-9c51eaad433a",
   "metadata": {},
   "outputs": [
    {
     "name": "stdin",
     "output_type": "stream",
     "text": [
      "enter the width of the rectangle 40\n"
     ]
    }
   ],
   "source": [
    "w=int(input(\"enter the width of the rectangle\"))"
   ]
  },
  {
   "cell_type": "code",
   "execution_count": 5,
   "id": "d336afc4-094b-47d9-9282-d0e02cce5df6",
   "metadata": {},
   "outputs": [],
   "source": [
    "area=l*w"
   ]
  },
  {
   "cell_type": "code",
   "execution_count": 7,
   "id": "09b82883-b02d-4d43-b72f-975143b5ca06",
   "metadata": {},
   "outputs": [
    {
     "name": "stdout",
     "output_type": "stream",
     "text": [
      "1200\n"
     ]
    }
   ],
   "source": [
    "print(area)"
   ]
  },
  {
   "cell_type": "code",
   "execution_count": null,
   "id": "5503be01-be03-486f-af21-b864d5349d27",
   "metadata": {},
   "outputs": [],
   "source": [
    "#3.program to calculate the temperature in fahreinheit"
   ]
  },
  {
   "cell_type": "code",
   "execution_count": 8,
   "id": "252545cd-5881-4c81-a1ff-cd2417aac336",
   "metadata": {},
   "outputs": [
    {
     "name": "stdin",
     "output_type": "stream",
     "text": [
      "enter the temperature in celsius 37\n"
     ]
    }
   ],
   "source": [
    "tcelsius=input(\"enter the temperature in celsius\")"
   ]
  },
  {
   "cell_type": "code",
   "execution_count": 10,
   "id": "daf81183-90ef-45b8-af96-3c88be73a0da",
   "metadata": {},
   "outputs": [],
   "source": [
    "tcelsius=int(tcelsius)"
   ]
  },
  {
   "cell_type": "code",
   "execution_count": 12,
   "id": "dabd5b14-845b-46ca-9fc5-0c79372ed93f",
   "metadata": {},
   "outputs": [],
   "source": [
    "tf=tcelsius*1.8+32"
   ]
  },
  {
   "cell_type": "code",
   "execution_count": 13,
   "id": "03adc0d3-7cab-4853-a2b7-171347bbcd3e",
   "metadata": {},
   "outputs": [
    {
     "name": "stdout",
     "output_type": "stream",
     "text": [
      "98.60000000000001\n"
     ]
    }
   ],
   "source": [
    "print(tf)"
   ]
  },
  {
   "cell_type": "code",
   "execution_count": null,
   "id": "7ba2a1a4-eeee-47cd-839e-c7f551d4a400",
   "metadata": {},
   "outputs": [],
   "source": [
    "#4.program to calculate the length of the string"
   ]
  },
  {
   "cell_type": "code",
   "execution_count": 16,
   "id": "ce05cfb3-4128-41ff-a578-544daf1884b7",
   "metadata": {},
   "outputs": [
    {
     "name": "stdin",
     "output_type": "stream",
     "text": [
      "enter the string python\n"
     ]
    }
   ],
   "source": [
    "s=input(\"enter the string\")"
   ]
  },
  {
   "cell_type": "code",
   "execution_count": 17,
   "id": "07d31794-0e9c-4c29-9c00-dc70c6347a2a",
   "metadata": {},
   "outputs": [],
   "source": [
    "l1=len(s)"
   ]
  },
  {
   "cell_type": "code",
   "execution_count": 18,
   "id": "cf5a4a24-2f37-4792-84c0-2f550132703a",
   "metadata": {},
   "outputs": [
    {
     "name": "stdout",
     "output_type": "stream",
     "text": [
      "6\n"
     ]
    }
   ],
   "source": [
    "print(l1)"
   ]
  },
  {
   "cell_type": "code",
   "execution_count": 19,
   "id": "5bcd3a95-2c62-45ce-ad76-94de857517bf",
   "metadata": {},
   "outputs": [],
   "source": [
    "#5.program to find the number of vowels in the string"
   ]
  },
  {
   "cell_type": "code",
   "execution_count": 17,
   "id": "d2b92a76-0564-40d0-91d9-ba678acaaa38",
   "metadata": {},
   "outputs": [
    {
     "name": "stdin",
     "output_type": "stream",
     "text": [
      "enter any sentence pythonisagoodlanguage\n"
     ]
    }
   ],
   "source": [
    "v=input(\"enter any sentence\")"
   ]
  },
  {
   "cell_type": "code",
   "execution_count": 18,
   "id": "d6c04ae7-fe44-4b05-a837-ef290a7ce2c5",
   "metadata": {},
   "outputs": [
    {
     "name": "stdout",
     "output_type": "stream",
     "text": [
      "9\n"
     ]
    }
   ],
   "source": [
    "vowels=\"aeoiuAEIOU\"\n",
    "count=sum(v.count(vowel) for vowel in vowels)\n",
    "print(count)"
   ]
  },
  {
   "cell_type": "code",
   "execution_count": 26,
   "id": "01aba783-b3b0-4739-a449-58843a3b557b",
   "metadata": {},
   "outputs": [],
   "source": [
    "#6.program to reverse the order of characters in the string and print the reversed string"
   ]
  },
  {
   "cell_type": "code",
   "execution_count": 27,
   "id": "b15b44f7-fe1f-4521-b2f6-5bf7812bb34d",
   "metadata": {},
   "outputs": [],
   "source": [
    "s1=\"skillset\""
   ]
  },
  {
   "cell_type": "code",
   "execution_count": 33,
   "id": "2f4e9f18-17f7-4eaf-87fb-f39af7980d5f",
   "metadata": {},
   "outputs": [
    {
     "data": {
      "text/plain": [
       "'teslliks'"
      ]
     },
     "execution_count": 33,
     "metadata": {},
     "output_type": "execute_result"
    }
   ],
   "source": [
    "s1[::-1]"
   ]
  },
  {
   "cell_type": "code",
   "execution_count": 34,
   "id": "2306ccca-4177-403c-9b14-6940759cf6f1",
   "metadata": {},
   "outputs": [],
   "source": [
    "#7.program to check if the string is a palindrome or not"
   ]
  },
  {
   "cell_type": "code",
   "execution_count": 6,
   "id": "83b83966-584d-4a35-a8ce-5ccdeb4c9021",
   "metadata": {},
   "outputs": [
    {
     "name": "stdout",
     "output_type": "stream",
     "text": [
      "z is a palindrome\n"
     ]
    }
   ],
   "source": [
    "z=\"KANAK\"\n",
    "z1=z[::1]\n",
    "if(z==z1):\n",
    "    print(\"z is a palindrome\")\n"
   ]
  },
  {
   "cell_type": "code",
   "execution_count": null,
   "id": "8122e620-8938-409b-95f3-15c797dfb388",
   "metadata": {},
   "outputs": [],
   "source": [
    "#8. Program that takes the string as input and removes all the spaces from it "
   ]
  },
  {
   "cell_type": "code",
   "execution_count": 14,
   "id": "fee3308f-efbc-428d-a1c3-009e2dfcd990",
   "metadata": {},
   "outputs": [
    {
     "name": "stdin",
     "output_type": "stream",
     "text": [
      "enter any string              This is a lab        \n"
     ]
    }
   ],
   "source": [
    "a=input(\"enter any string\")"
   ]
  },
  {
   "cell_type": "code",
   "execution_count": 15,
   "id": "a9c6ab83-9045-48e3-abbf-93ef7637edf6",
   "metadata": {},
   "outputs": [
    {
     "name": "stdout",
     "output_type": "stream",
     "text": [
      "This is a lab\n"
     ]
    }
   ],
   "source": [
    "trimmed_a=a.strip()\n",
    "print(trimmed_a)"
   ]
  }
 ],
 "metadata": {
  "kernelspec": {
   "display_name": "Python 3 (ipykernel)",
   "language": "python",
   "name": "python3"
  },
  "language_info": {
   "codemirror_mode": {
    "name": "ipython",
    "version": 3
   },
   "file_extension": ".py",
   "mimetype": "text/x-python",
   "name": "python",
   "nbconvert_exporter": "python",
   "pygments_lexer": "ipython3",
   "version": "3.10.8"
  }
 },
 "nbformat": 4,
 "nbformat_minor": 5
}
